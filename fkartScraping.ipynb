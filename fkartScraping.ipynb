{
 "cells": [
  {
   "cell_type": "code",
   "execution_count": 43,
   "metadata": {},
   "outputs": [],
   "source": [
    "import pandas as pd\n",
    "from bs4 import BeautifulSoup as bs\n",
    "import requests"
   ]
  },
  {
   "cell_type": "code",
   "execution_count": 77,
   "metadata": {},
   "outputs": [],
   "source": [
    "priceList = list()\n",
    "namelist = list()\n",
    "url = \"https://www.flipkart.com/search?p%5B%5D=facets.brand%255B%255D%3D\\\n",
    "Samsung&sid=tyy%2F4io&sort=recency\\\n",
    "_desc&wid=1.productCard.PMU_V2_1&page=\""
   ]
  },
  {
   "cell_type": "code",
   "execution_count": 82,
   "metadata": {},
   "outputs": [],
   "source": [
    "import csv\n",
    "file1 = 'D:\\\\dpa\\\\dpa_fkart_scrape\\\\Samsung.csv'\n",
    "with open(file1 , 'w' , encoding = 'utf-8-sig') as f:\n",
    "    w = csv.writer(f)\n",
    "    headers = 'Phone_Name Phone_Price'\n",
    "    w.writerow(headers.split())\n",
    "    for page in range(1,25):\n",
    "        fkart = bs(requests.get(url+str(page)).text, 'lxml')  \n",
    "        name = fkart.find_all('div', class_ = '_3wU53n')\n",
    "        price = fkart.find_all(\"div\", class_ = '_1vC4OE _2rQ-NK')\n",
    "        for i,j in zip(price,name):\n",
    "            w.writerow([(j.text.strip()),(i.text.strip())])"
   ]
  },
  {
   "cell_type": "code",
   "execution_count": 73,
   "metadata": {},
   "outputs": [
    {
     "name": "stdout",
     "output_type": "stream",
     "text": [
      "₹77,999₹86,0009% offOr Pay ₹77,499 +  500\n"
     ]
    }
   ],
   "source": [
    "print(priceList[0])"
   ]
  },
  {
   "cell_type": "code",
   "execution_count": 56,
   "metadata": {},
   "outputs": [
    {
     "name": "stdout",
     "output_type": "stream",
     "text": [
      "                                             0\n",
      "0    ₹77,999₹86,0009% offOr Pay ₹77,499 +  500\n",
      "1                                      ₹10,998\n",
      "2                                      ₹10,999\n",
      "3                                       ₹6,188\n",
      "4                                       ₹7,198\n",
      "..                                         ...\n",
      "554                                     ₹6,999\n",
      "555                                    ₹40,690\n",
      "556                                     ₹3,400\n",
      "557                                     ₹1,560\n",
      "558                                     ₹3,999\n",
      "\n",
      "[559 rows x 1 columns]\n"
     ]
    }
   ],
   "source": [
    "priceList = pd.DataFrame(priceList)\n",
    "print(priceList)\n",
    "priceList.to_csv('D:\\\\dpa\\\\dpa_fkart_scrape\\\\Samsung1.csv', index = False)"
   ]
  }
 ],
 "metadata": {
  "kernelspec": {
   "display_name": "Python 3",
   "language": "python",
   "name": "python3"
  },
  "language_info": {
   "codemirror_mode": {
    "name": "ipython",
    "version": 3
   },
   "file_extension": ".py",
   "mimetype": "text/x-python",
   "name": "python",
   "nbconvert_exporter": "python",
   "pygments_lexer": "ipython3",
   "version": "3.7.4"
  }
 },
 "nbformat": 4,
 "nbformat_minor": 2
}
